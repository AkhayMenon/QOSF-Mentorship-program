{
  "nbformat": 4,
  "nbformat_minor": 0,
  "metadata": {
    "colab": {
      "name": "QOSF-Task-2.ipynb",
      "provenance": [],
      "collapsed_sections": [],
      "authorship_tag": "ABX9TyNXVXN0/PyrNeruRHTaGs0G",
      "include_colab_link": true
    },
    "kernelspec": {
      "display_name": "Python 3",
      "name": "python3"
    }
  },
  "cells": [
    {
      "cell_type": "markdown",
      "metadata": {
        "id": "view-in-github",
        "colab_type": "text"
      },
      "source": [
        "<a href=\"https://colab.research.google.com/github/AkhayMenon/QOSF-Mentorship-program/blob/main/QOSF_Task_2.ipynb\" target=\"_parent\"><img src=\"https://colab.research.google.com/assets/colab-badge.svg\" alt=\"Open In Colab\"/></a>"
      ]
    },
    {
      "cell_type": "markdown",
      "metadata": {
        "id": "8loIECNLwsc9"
      },
      "source": [
        "# Exploring Quantum Error Correction using Bell-state preparation circuit in Qiskit\r\n",
        "\r\n",
        "<font family='cursive' color='green'>*This notebook is an attempt to understand the errors that could occur in quantum circuits, and ways to correct these errors so that a desired quantum computation can be achieved.*</font>\r\n",
        "\r\n",
        "One of the cornerstones for the development of classical computation as we know of it today was the invention of error correcting codes. The genius of Claude Shannon proposed <a href='http://people.math.harvard.edu/~ctm/home/text/others/shannon/entropy/entropy.pdf'>a mathematical theory of communication</a> which brought in the breakthrough in understanding any information as a stream of bits (0s and 1s signifying On  or Off states of switches). This perspective gave the methodologies of quantifying the interaction of classical information with its environment. The meaning of a stream of bits can be completely changed if certain bits are flipped due to this interaction with the environment. Hence, it was necessary to find ways to ensure that random bit flips that could occur due to noise from the environment can be detected and corrected with a plausible probability. This necessity became the mother of a beautiful invention that culminated in the modern error correcting codes. \r\n",
        "\r\n",
        "Classical error correcting codes used the principle of encoding a bit's information in multiple bits by generating copies, and then using several clever mathematical devices to check whether an error has happened in a set of bits, and if so, where did the error occur. This information is used to flip the error bit back to its intended value. One such elegant code is the <a href='https://en.wikipedia.org/wiki/Hamming_code'>Hamming code.</a> \r\n",
        "\r\n",
        "Hence, it is crucial that equivalent error correcting codes have to be developed for quantum computers as well. Many great people have already worked extensively in formally developing quantum error correcting codes. It was found by <a href='https://journals.aps.org/prl/abstract/10.1103/PhysRevLett.77.198'>Laflamme et al.</a> that perfect quantum error correcting codes (perfect codes can *deterministically* correct any arbitrary single qubit error) can be engineered based on a constraint that fixes the number of extra qubits needed to encode a logical qubit (logical qubits are an encoded version of the qubit carrying the information). \r\n",
        "\r\n",
        "In order to understand this constraint, let us ask the following question:\r\n",
        "**How big should the Hilbert space of the problem be in order to accomodate the logical qubit and its subsequent error corrections?**\r\n",
        "\r\n",
        "The errors that usually happen to the qubits are either bit flips (denoted by $\\sigma_{x}$ Pauli operation), phase flips (denoted by $\\sigma_{z}$ Pauli operation) or a combination of these two (denoted by $\\sigma_{y} = i\\sigma_{x}\\sigma_{z}$ Pauli operation). The state of the initial qubit can also be unaffected (denoted by an Identity operation). It is well known that the set $\\left\\{ \\mathbb{I},\\sigma_{x},\\sigma_{y},\\sigma_{z}\\right\\}$ forms an <a href='https://quantumsim.gitlab.io/architecture/pauli.html'>orthogonal basis</a> (orthonormal with the normalising factor of $1/\\sqrt{2}$). From the perspective of errors, this means that individual errors (for example bit flips) are independent and cannot be expressed as a linear combination of other errors. This also means that any arbitrary single qubit error can be expressed as a linear combination of this basis, denoting that the ability to correct single qubit bit flips and phase flips can in principle correct any arbitrary single qubit error.\r\n",
        "\r\n",
        "Now, we need $3n+1$ subspaces ($3n$ for $\\sigma_{x},\\sigma_{y},\\sigma_{z}$ errors and one for identity, where $n$ denotes the number of qubits) to represent one logical state. Since we need two such logical states, this becomes $2(3n+1)$. Thus we get the following contraint:\r\n",
        "$$2(3n+1)\\leq2^{n}$$\r\n",
        "where $2^{n}$ denotes the dimension of a general Hilbert space. Several quantum error correcting codes as proposed by <a href='https://journals.aps.org/pra/abstract/10.1103/PhysRevA.52.R2493'>Shor et al.</a> and <a href='https://journals.aps.org/prl/abstract/10.1103/PhysRevLett.77.793'>Steane et al.</a> satisfy this contraint. The minimum possible value of $n$ for which this constraint saturates was found to be $n=5$. \r\n",
        "\r\n",
        "We will be using $n=5$ in this notebook to demonstrate an error correction code."
      ]
    },
    {
      "cell_type": "code",
      "metadata": {
        "id": "rQliidI3kYBP"
      },
      "source": [
        "# Let us import the reqiured libraries\r\n",
        "\r\n",
        "import numpy as np\r\n",
        "import random\r\n",
        "from qiskit import QuantumCircuit, Aer, execute\r\n",
        "from qiskit.visualization import plot_histogram, plot_bloch_multivector\r\n",
        "from qiskit_textbook.tools import array_to_latex"
      ],
      "execution_count": 1,
      "outputs": []
    },
    {
      "cell_type": "markdown",
      "metadata": {
        "id": "QfcbE77Wkbvz"
      },
      "source": [
        "<a href='https://qiskit.org/documentation/'>Qiskit</a> is an excellent choice for designing and developing quantum circuits. In this notebook, we will use qiskit as an accompaniment to understand more about error correction. Qiskit has various simulators available for understanding the dynamics of qubit evolution. In this notebook, we will be using two such simulators available in qiskit as the backend, which are *qasm_simulator* and *statevector_simulator*.\r\n",
        "\r\n",
        "*qasm_simulator* : Noisy quantum circuit simulator backend\r\n",
        "\r\n",
        "*statevector_simulator* : Ideal quantum circuit statevector simulator\r\n",
        "\r\n",
        "Let us define these backends now, so that they can be used freely throughout the code."
      ]
    },
    {
      "cell_type": "code",
      "metadata": {
        "id": "p9k9LTY2lHfW"
      },
      "source": [
        "qasm = Aer.get_backend('qasm_simulator')\r\n",
        "svec = Aer.get_backend('statevector_simulator')"
      ],
      "execution_count": 2,
      "outputs": []
    },
    {
      "cell_type": "markdown",
      "metadata": {
        "id": "8vkXPL0AkuhO"
      },
      "source": [
        "## A simple Bell state generation circuit\r\n",
        "\r\n",
        "First of all, let us make a quantum circuit that prepares the two-qubit entangled state (also known as Bell state). We use this as the base circuit to which we would introduce bit flip and phase flip errors in random. "
      ]
    },
    {
      "cell_type": "code",
      "metadata": {
        "id": "GvB7RMjelYDO"
      },
      "source": [
        "# Function to generate the Bell state\r\n",
        "def bell():\r\n",
        "  # Define the quantum circuit with number of quantuma and classical registers\r\n",
        "  # Classical registers are needed to perform measurement on quantum registers\r\n",
        "  # By default, the qubits are prepared in |0> state.\r\n",
        "  qc = QuantumCircuit(2, 2)\r\n",
        "\r\n",
        "  # Hadamard operation on first qubit\r\n",
        "  qc.h(0)\r\n",
        "  # CNOT operation with control on first and target on second qubit\r\n",
        "  qc.cx(0,1)\r\n",
        "\r\n",
        "  return qc"
      ],
      "execution_count": 3,
      "outputs": []
    },
    {
      "cell_type": "code",
      "metadata": {
        "colab": {
          "base_uri": "https://localhost:8080/",
          "height": 119
        },
        "id": "4qse-dvxD7MR",
        "outputId": "9a951e59-498a-458d-f127-86379a6264eb"
      },
      "source": [
        "# Generate the Bell state preparation circuit\r\n",
        "qc = bell()\r\n",
        "\r\n",
        "# Perform measurement to determine the output state\r\n",
        "qc.measure(0,0)\r\n",
        "qc.measure(1,1)\r\n",
        "\r\n",
        "# Draw the quantum circuit to analyze visually\r\n",
        "qc.draw()"
      ],
      "execution_count": 4,
      "outputs": [
        {
          "output_type": "execute_result",
          "data": {
            "text/html": [
              "<pre style=\"word-wrap: normal;white-space: pre;background: #fff0;line-height: 1.1;font-family: &quot;Courier New&quot;,Courier,monospace\">     ┌───┐     ┌─┐   \n",
              "q_0: ┤ H ├──■──┤M├───\n",
              "     └───┘┌─┴─┐└╥┘┌─┐\n",
              "q_1: ─────┤ X ├─╫─┤M├\n",
              "          └───┘ ║ └╥┘\n",
              "c: 2/═══════════╩══╩═\n",
              "                0  1 </pre>"
            ],
            "text/plain": [
              "     ┌───┐     ┌─┐   \n",
              "q_0: ┤ H ├──■──┤M├───\n",
              "     └───┘┌─┴─┐└╥┘┌─┐\n",
              "q_1: ─────┤ X ├─╫─┤M├\n",
              "          └───┘ ║ └╥┘\n",
              "c: 2/═══════════╩══╩═\n",
              "                0  1 "
            ]
          },
          "metadata": {
            "tags": []
          },
          "execution_count": 4
        }
      ]
    },
    {
      "cell_type": "code",
      "metadata": {
        "colab": {
          "base_uri": "https://localhost:8080/",
          "height": 333
        },
        "id": "mDU7NBbMnCby",
        "outputId": "106ca418-7cce-40c5-c91a-e5a1a861a1d3"
      },
      "source": [
        "# Now, we execute the circuit so that final distribution after measurement is generated\r\n",
        "# By default, the measurement is performed 1024 times\r\n",
        "counts = execute(qc, qasm).result().get_counts()\r\n",
        "plot_histogram(counts)"
      ],
      "execution_count": 5,
      "outputs": [
        {
          "output_type": "execute_result",
          "data": {
            "image/png": "[encoded data removed]",
            "text/plain": [
              "<Figure size 504x360 with 1 Axes>"
            ]
          },
          "metadata": {
            "tags": []
          },
          "execution_count": 5
        }
      ]
    },
    {
      "cell_type": "markdown",
      "metadata": {
        "id": "xKZ2abXQnQsA"
      },
      "source": [
        "We can see that executing the circuit generated the state \r\n",
        "$$|\\psi_{00}\\rangle = \\frac{1}{\\sqrt{2}}\\left(|00\\rangle+|11\\rangle\\right)$$ which is the two qubit entangled state. Executing the same circuit (without performing measurement, as measurement projets the state onto the computational basis) using the svec backend yields\r\n",
        "\r\n"
      ]
    },
    {
      "cell_type": "code",
      "metadata": {
        "colab": {
          "base_uri": "https://localhost:8080/",
          "height": 105
        },
        "id": "C-MRwECfC9xy",
        "outputId": "3507743d-f098-4732-b948-87700a5f1479"
      },
      "source": [
        "qc = bell()\r\n",
        "final_state = execute(qc, svec).result().get_statevector()\r\n",
        "array_to_latex(final_state, pretext=\"\\\\text{Statevector = }\")"
      ],
      "execution_count": 6,
      "outputs": [
        {
          "output_type": "display_data",
          "data": {
            "text/latex": "$$\n\\text{Statevector = }\\begin{bmatrix}\n\\tfrac{1}{\\sqrt{2}} \\\\\n0 \\\\\n0 \\\\\n\\tfrac{1}{\\sqrt{2}}\n\\end{bmatrix}\n$$",
            "text/plain": [
              "<IPython.core.display.Math object>"
            ]
          },
          "metadata": {
            "tags": []
          }
        }
      ]
    },
    {
      "cell_type": "markdown",
      "metadata": {
        "id": "LpF9ZEZZC6E0"
      },
      "source": [
        "Here, the basis is the set of entangled two qubit states $\\left\\{|00\\rangle, |01\\rangle,|10\\rangle, |11\\rangle\\right\\}$, which validates our result obtained through qasm backend. \r\n",
        "\r\n",
        "Now, let us indroduce some noise in the form of bit flips and phase flips to our bell state preparation circuit. We choose the noise based on a uniform probability distribution, so that $(2/3)^{rd}$ of the time an error occurs (either a bit flip or a phase flip) and $(1/3)^{rd}$ of the time the state doesn't change (identity operation). We will define a function that introduces random errors in the circuit."
      ]
    },
    {
      "cell_type": "code",
      "metadata": {
        "id": "Is3XtunO3QvC"
      },
      "source": [
        "def random_error(qc, seed):\r\n",
        "  random.seed(seed) # To generate the same set of random gates\r\n",
        "  error_list = [qc.i, qc.x, qc.z] # Identity, bit flip and phase flip errors\r\n",
        "  random.choice(error_list)(0) # Random error in first qubit\r\n",
        "  random.choice(error_list)(1) # Random error in second qubit\r\n",
        "  return qc"
      ],
      "execution_count": 7,
      "outputs": []
    },
    {
      "cell_type": "markdown",
      "metadata": {
        "id": "-4aqwk1mIhj7"
      },
      "source": [
        " First of all, let us investigate whether introducing a noise (error) gate before or after the CNOT operation in the Bell state preparation circuit actually has an effect on the final state. For this, we modify our *bell* function"
      ]
    },
    {
      "cell_type": "code",
      "metadata": {
        "id": "PEad6X4YJXXa"
      },
      "source": [
        "# Function to generate the Bell state with error gates\r\n",
        "def bell(position, error=False, seed=42):\r\n",
        "  qc = QuantumCircuit(2, 2)\r\n",
        "\r\n",
        "  # Hadamard operation on first qubit\r\n",
        "  qc.h(0)\r\n",
        "  qc.barrier() # For visual differentiation of gate layers\r\n",
        "\r\n",
        "  # Introduce error before the CNOT\r\n",
        "  if error==True and position=='before':\r\n",
        "      qc = random_error(qc, seed)\r\n",
        "      qc.barrier()\r\n",
        "  # CNOT operation with control on first and target on second qubit\r\n",
        "  qc.cx(0,1)\r\n",
        "\r\n",
        "  # Introduce error after the CNOT\r\n",
        "  if error==True and position=='after':\r\n",
        "      qc.barrier()\r\n",
        "      qc = random_error(qc, seed)\r\n",
        "\r\n",
        "  return qc"
      ],
      "execution_count": 8,
      "outputs": []
    },
    {
      "cell_type": "code",
      "metadata": {
        "colab": {
          "base_uri": "https://localhost:8080/",
          "height": 119
        },
        "id": "r7ZlkczmwRhC",
        "outputId": "6cd5968f-9994-4aad-aab2-0038873dbcab"
      },
      "source": [
        "qc1 = bell(position='before', error=True)\r\n",
        "qc1.draw()"
      ],
      "execution_count": 9,
      "outputs": [
        {
          "output_type": "execute_result",
          "data": {
            "text/html": [
              "<pre style=\"word-wrap: normal;white-space: pre;background: #fff0;line-height: 1.1;font-family: &quot;Courier New&quot;,Courier,monospace\">     ┌───┐ ░ ┌───┐ ░      \n",
              "q_0: ┤ H ├─░─┤ Z ├─░───■──\n",
              "     └───┘ ░ ├───┤ ░ ┌─┴─┐\n",
              "q_1: ──────░─┤ I ├─░─┤ X ├\n",
              "           ░ └───┘ ░ └───┘\n",
              "c: 2/═════════════════════\n",
              "                          </pre>"
            ],
            "text/plain": [
              "     ┌───┐ ░ ┌───┐ ░      \n",
              "q_0: ┤ H ├─░─┤ Z ├─░───■──\n",
              "     └───┘ ░ ├───┤ ░ ┌─┴─┐\n",
              "q_1: ──────░─┤ I ├─░─┤ X ├\n",
              "           ░ └───┘ ░ └───┘\n",
              "c: 2/═════════════════════\n",
              "                          "
            ]
          },
          "metadata": {
            "tags": []
          },
          "execution_count": 9
        }
      ]
    },
    {
      "cell_type": "code",
      "metadata": {
        "colab": {
          "base_uri": "https://localhost:8080/",
          "height": 336
        },
        "id": "VNwaaziH5Fz5",
        "outputId": "ac5b5a97-8ba9-4728-a933-23b430c23fad"
      },
      "source": [
        "qc1.measure(0,0)\r\n",
        "qc1.measure(1,1)\r\n",
        "counts = execute(qc1, qasm).result().get_counts()\r\n",
        "plot_histogram(counts)"
      ],
      "execution_count": 10,
      "outputs": [
        {
          "output_type": "execute_result",
          "data": {
            "image/png": "[encoded data removed]",
            "text/plain": [
              "<Figure size 504x360 with 1 Axes>"
            ]
          },
          "metadata": {
            "tags": []
          },
          "execution_count": 10
        }
      ]
    },
    {
      "cell_type": "code",
      "metadata": {
        "colab": {
          "base_uri": "https://localhost:8080/",
          "height": 105
        },
        "id": "KIskgtzeuQ10",
        "outputId": "e5a31eaa-6688-44c6-facc-989f0a370cfe"
      },
      "source": [
        "qc1 = bell(position='before', error=True)\r\n",
        "final_state = execute(qc1, svec).result().get_statevector()\r\n",
        "array_to_latex(final_state, pretext=\"\\\\text{Statevector = }\")"
      ],
      "execution_count": 11,
      "outputs": [
        {
          "output_type": "display_data",
          "data": {
            "text/latex": "$$\n\\text{Statevector = }\\begin{bmatrix}\n\\tfrac{1}{\\sqrt{2}} \\\\\n0 \\\\\n0 \\\\\n-\\tfrac{1}{\\sqrt{2}}\n\\end{bmatrix}\n$$",
            "text/plain": [
              "<IPython.core.display.Math object>"
            ]
          },
          "metadata": {
            "tags": []
          }
        }
      ]
    },
    {
      "cell_type": "code",
      "metadata": {
        "colab": {
          "base_uri": "https://localhost:8080/",
          "height": 119
        },
        "id": "2FiGHSwg5HKS",
        "outputId": "eab27fea-137f-4397-9ec9-1a69491f3c91"
      },
      "source": [
        "qc2 = bell(position='after', error=True)\r\n",
        "qc2.draw()"
      ],
      "execution_count": 12,
      "outputs": [
        {
          "output_type": "execute_result",
          "data": {
            "text/html": [
              "<pre style=\"word-wrap: normal;white-space: pre;background: #fff0;line-height: 1.1;font-family: &quot;Courier New&quot;,Courier,monospace\">     ┌───┐ ░       ░ ┌───┐\n",
              "q_0: ┤ H ├─░───■───░─┤ Z ├\n",
              "     └───┘ ░ ┌─┴─┐ ░ ├───┤\n",
              "q_1: ──────░─┤ X ├─░─┤ I ├\n",
              "           ░ └───┘ ░ └───┘\n",
              "c: 2/═════════════════════\n",
              "                          </pre>"
            ],
            "text/plain": [
              "     ┌───┐ ░       ░ ┌───┐\n",
              "q_0: ┤ H ├─░───■───░─┤ Z ├\n",
              "     └───┘ ░ ┌─┴─┐ ░ ├───┤\n",
              "q_1: ──────░─┤ X ├─░─┤ I ├\n",
              "           ░ └───┘ ░ └───┘\n",
              "c: 2/═════════════════════\n",
              "                          "
            ]
          },
          "metadata": {
            "tags": []
          },
          "execution_count": 12
        }
      ]
    },
    {
      "cell_type": "code",
      "metadata": {
        "colab": {
          "base_uri": "https://localhost:8080/",
          "height": 331
        },
        "id": "LOd0YsCV5YY6",
        "outputId": "2aea85f8-d500-4486-9e28-1f5cb48f1b7e"
      },
      "source": [
        "qc2.measure(0,0)\r\n",
        "qc2.measure(1,1)\r\n",
        "counts = execute(qc2, qasm).result().get_counts()\r\n",
        "plot_histogram(counts)"
      ],
      "execution_count": 13,
      "outputs": [
        {
          "output_type": "execute_result",
          "data": {
            "image/png": "[encoded data removed]",
            "text/plain": [
              "<Figure size 504x360 with 1 Axes>"
            ]
          },
          "metadata": {
            "tags": []
          },
          "execution_count": 13
        }
      ]
    },
    {
      "cell_type": "code",
      "metadata": {
        "id": "PMc4f7aU5atK",
        "colab": {
          "base_uri": "https://localhost:8080/",
          "height": 105
        },
        "outputId": "64348539-5c34-43cb-9204-8795fc627f72"
      },
      "source": [
        "qc2 = bell(position='after', error=True)\r\n",
        "final_state = execute(qc2, svec).result().get_statevector()\r\n",
        "array_to_latex(final_state, pretext=\"\\\\text{Statevector = }\")"
      ],
      "execution_count": 14,
      "outputs": [
        {
          "output_type": "display_data",
          "data": {
            "text/latex": "$$\n\\text{Statevector = }\\begin{bmatrix}\n\\tfrac{1}{\\sqrt{2}} \\\\\n0 \\\\\n0 \\\\\n-\\tfrac{1}{\\sqrt{2}}\n\\end{bmatrix}\n$$",
            "text/plain": [
              "<IPython.core.display.Math object>"
            ]
          },
          "metadata": {
            "tags": []
          }
        }
      ]
    },
    {
      "cell_type": "markdown",
      "metadata": {
        "id": "WFsrhOtCL2Ea"
      },
      "source": [
        "Now, let us try using a different seed."
      ]
    },
    {
      "cell_type": "code",
      "metadata": {
        "colab": {
          "base_uri": "https://localhost:8080/",
          "height": 119
        },
        "id": "LuBdrgbvPRNX",
        "outputId": "01b9b9b8-5df7-434f-c135-e2b77b93e080"
      },
      "source": [
        "qc1 = bell(position='before', error=True, seed = 45)\r\n",
        "qc1.draw()"
      ],
      "execution_count": 15,
      "outputs": [
        {
          "output_type": "execute_result",
          "data": {
            "text/html": [
              "<pre style=\"word-wrap: normal;white-space: pre;background: #fff0;line-height: 1.1;font-family: &quot;Courier New&quot;,Courier,monospace\">     ┌───┐ ░ ┌───┐ ░      \n",
              "q_0: ┤ H ├─░─┤ X ├─░───■──\n",
              "     └───┘ ░ ├───┤ ░ ┌─┴─┐\n",
              "q_1: ──────░─┤ X ├─░─┤ X ├\n",
              "           ░ └───┘ ░ └───┘\n",
              "c: 2/═════════════════════\n",
              "                          </pre>"
            ],
            "text/plain": [
              "     ┌───┐ ░ ┌───┐ ░      \n",
              "q_0: ┤ H ├─░─┤ X ├─░───■──\n",
              "     └───┘ ░ ├───┤ ░ ┌─┴─┐\n",
              "q_1: ──────░─┤ X ├─░─┤ X ├\n",
              "           ░ └───┘ ░ └───┘\n",
              "c: 2/═════════════════════\n",
              "                          "
            ]
          },
          "metadata": {
            "tags": []
          },
          "execution_count": 15
        }
      ]
    },
    {
      "cell_type": "code",
      "metadata": {
        "colab": {
          "base_uri": "https://localhost:8080/",
          "height": 331
        },
        "id": "wyO01_tSPRNe",
        "outputId": "152537ef-c940-4107-c5b5-28aefed506ba"
      },
      "source": [
        "qc1.measure(0,0)\r\n",
        "qc1.measure(1,1)\r\n",
        "counts = execute(qc1, qasm).result().get_counts()\r\n",
        "plot_histogram(counts)"
      ],
      "execution_count": 16,
      "outputs": [
        {
          "output_type": "execute_result",
          "data": {
            "image/png": "[encoded data removed]",
            "text/plain": [
              "<Figure size 504x360 with 1 Axes>"
            ]
          },
          "metadata": {
            "tags": []
          },
          "execution_count": 16
        }
      ]
    },
    {
      "cell_type": "code",
      "metadata": {
        "colab": {
          "base_uri": "https://localhost:8080/",
          "height": 105
        },
        "id": "ya7UyPPPPRNe",
        "outputId": "6da9799e-fccf-4132-a779-140d32ccc684"
      },
      "source": [
        "qc1 = bell(position='before', error=True, seed = 45)\r\n",
        "final_state = execute(qc1, svec).result().get_statevector()\r\n",
        "array_to_latex(final_state, pretext=\"\\\\text{Statevector = }\")"
      ],
      "execution_count": 17,
      "outputs": [
        {
          "output_type": "display_data",
          "data": {
            "text/latex": "$$\n\\text{Statevector = }\\begin{bmatrix}\n0 \\\\\n\\tfrac{1}{\\sqrt{2}} \\\\\n\\tfrac{1}{\\sqrt{2}} \\\\\n0\n\\end{bmatrix}\n$$",
            "text/plain": [
              "<IPython.core.display.Math object>"
            ]
          },
          "metadata": {
            "tags": []
          }
        }
      ]
    },
    {
      "cell_type": "code",
      "metadata": {
        "colab": {
          "base_uri": "https://localhost:8080/",
          "height": 119
        },
        "id": "EKo_BNGKPRNe",
        "outputId": "9ebca66a-8e5a-44d0-8a8f-e692039794af"
      },
      "source": [
        "qc2 = bell(position='after', error=True, seed = 45)\r\n",
        "qc2.draw()"
      ],
      "execution_count": 18,
      "outputs": [
        {
          "output_type": "execute_result",
          "data": {
            "text/html": [
              "<pre style=\"word-wrap: normal;white-space: pre;background: #fff0;line-height: 1.1;font-family: &quot;Courier New&quot;,Courier,monospace\">     ┌───┐ ░       ░ ┌───┐\n",
              "q_0: ┤ H ├─░───■───░─┤ X ├\n",
              "     └───┘ ░ ┌─┴─┐ ░ ├───┤\n",
              "q_1: ──────░─┤ X ├─░─┤ X ├\n",
              "           ░ └───┘ ░ └───┘\n",
              "c: 2/═════════════════════\n",
              "                          </pre>"
            ],
            "text/plain": [
              "     ┌───┐ ░       ░ ┌───┐\n",
              "q_0: ┤ H ├─░───■───░─┤ X ├\n",
              "     └───┘ ░ ┌─┴─┐ ░ ├───┤\n",
              "q_1: ──────░─┤ X ├─░─┤ X ├\n",
              "           ░ └───┘ ░ └───┘\n",
              "c: 2/═════════════════════\n",
              "                          "
            ]
          },
          "metadata": {
            "tags": []
          },
          "execution_count": 18
        }
      ]
    },
    {
      "cell_type": "code",
      "metadata": {
        "colab": {
          "base_uri": "https://localhost:8080/",
          "height": 332
        },
        "id": "s0RbM0AAPRNf",
        "outputId": "17afd7f4-6ecf-40cf-b2b2-44882dd172dd"
      },
      "source": [
        "qc2.measure(0,0)\r\n",
        "qc2.measure(1,1)\r\n",
        "counts = execute(qc2, qasm).result().get_counts()\r\n",
        "plot_histogram(counts)"
      ],
      "execution_count": 19,
      "outputs": [
        {
          "output_type": "execute_result",
          "data": {
            "image/png": "[encoded data removed]",
            "text/plain": [
              "<Figure size 504x360 with 1 Axes>"
            ]
          },
          "metadata": {
            "tags": []
          },
          "execution_count": 19
        }
      ]
    },
    {
      "cell_type": "code",
      "metadata": {
        "colab": {
          "base_uri": "https://localhost:8080/",
          "height": 105
        },
        "id": "SmIu_vRFPRNf",
        "outputId": "86af9ffd-f116-42ae-d6c7-809d82b06ed9"
      },
      "source": [
        "qc2 = bell(position='after', error=True, seed = 45)\r\n",
        "final_state = execute(qc2, svec).result().get_statevector()\r\n",
        "array_to_latex(final_state, pretext=\"\\\\text{Statevector = }\")"
      ],
      "execution_count": 20,
      "outputs": [
        {
          "output_type": "display_data",
          "data": {
            "text/latex": "$$\n\\text{Statevector = }\\begin{bmatrix}\n\\tfrac{1}{\\sqrt{2}} \\\\\n0 \\\\\n0 \\\\\n\\tfrac{1}{\\sqrt{2}}\n\\end{bmatrix}\n$$",
            "text/plain": [
              "<IPython.core.display.Math object>"
            ]
          },
          "metadata": {
            "tags": []
          }
        }
      ]
    },
    {
      "cell_type": "markdown",
      "metadata": {
        "id": "PiQG6ZObPfai"
      },
      "source": [
        "From these examples, we see that the order of introducing error gates matter for the case of bit flips, as it completely alters the final state conditioned on whether the errors were introduced before or after the CNOT gate. However, the order of phase flips are not as important as the bit flips. \r\n",
        "\r\n",
        "For our implementation of the error correcting code, we will consider the case where errors are introduced randomly and independently for each qubits **before** the CNOT operation. Before that, we need to make a small change in the function *random_error* so that seed value can be made global and not local. This is necessary to generate different set of random gates each time we introduce an error. "
      ]
    },
    {
      "cell_type": "code",
      "metadata": {
        "id": "SWnGYFVaQI5g"
      },
      "source": [
        "def random_error(qc):\r\n",
        "  error_list = [qc.i, qc.x, qc.z] # Identity, bit flip and phase flip errors\r\n",
        "  random.choice(error_list)(0) # Random error in first qubit\r\n",
        "  random.choice(error_list)(1) # Random error in second qubit\r\n",
        "  return qc"
      ],
      "execution_count": 21,
      "outputs": []
    },
    {
      "cell_type": "markdown",
      "metadata": {
        "id": "TbgHSTbqTXbj"
      },
      "source": [
        "The function *bell* also can be made simpler"
      ]
    },
    {
      "cell_type": "code",
      "metadata": {
        "id": "wjC2AkF5Tezx"
      },
      "source": [
        "# Function to generate the Bell state with error gates before CNOT\r\n",
        "def bell():\r\n",
        "  qc = QuantumCircuit(2, 2)\r\n",
        "\r\n",
        "  # Hadamard operation on first qubit\r\n",
        "  qc.h(0)\r\n",
        "  qc.barrier()\r\n",
        "\r\n",
        "  # Introduce error before the CNOT\r\n",
        "  qc = random_error(qc)\r\n",
        "  qc.barrier()\r\n",
        "\r\n",
        "  # CNOT operation with control on first and target on second qubit\r\n",
        "  qc.cx(0,1)\r\n",
        "\r\n",
        "  return qc"
      ],
      "execution_count": 22,
      "outputs": []
    },
    {
      "cell_type": "code",
      "metadata": {
        "colab": {
          "base_uri": "https://localhost:8080/"
        },
        "id": "M8s_dJ0IUAv0",
        "outputId": "93c84514-6bc8-4246-e715-b20bd85aaadf"
      },
      "source": [
        "random.seed(47)\r\n",
        "circuits = []\r\n",
        "for i in range(10):\r\n",
        "  qc = bell()\r\n",
        "  circuits.append(qc)\r\n",
        "  print(qc.draw())"
      ],
      "execution_count": 23,
      "outputs": [
        {
          "output_type": "stream",
          "text": [
            "     ┌───┐ ░ ┌───┐ ░      \n",
            "q_0: ┤ H ├─░─┤ X ├─░───■──\n",
            "     └───┘ ░ ├───┤ ░ ┌─┴─┐\n",
            "q_1: ──────░─┤ I ├─░─┤ X ├\n",
            "           ░ └───┘ ░ └───┘\n",
            "c: 2/═════════════════════\n",
            "                          \n",
            "     ┌───┐ ░ ┌───┐ ░      \n",
            "q_0: ┤ H ├─░─┤ X ├─░───■──\n",
            "     └───┘ ░ ├───┤ ░ ┌─┴─┐\n",
            "q_1: ──────░─┤ Z ├─░─┤ X ├\n",
            "           ░ └───┘ ░ └───┘\n",
            "c: 2/═════════════════════\n",
            "                          \n",
            "     ┌───┐ ░ ┌───┐ ░      \n",
            "q_0: ┤ H ├─░─┤ X ├─░───■──\n",
            "     └───┘ ░ ├───┤ ░ ┌─┴─┐\n",
            "q_1: ──────░─┤ Z ├─░─┤ X ├\n",
            "           ░ └───┘ ░ └───┘\n",
            "c: 2/═════════════════════\n",
            "                          \n",
            "     ┌───┐ ░ ┌───┐ ░      \n",
            "q_0: ┤ H ├─░─┤ X ├─░───■──\n",
            "     └───┘ ░ ├───┤ ░ ┌─┴─┐\n",
            "q_1: ──────░─┤ X ├─░─┤ X ├\n",
            "           ░ └───┘ ░ └───┘\n",
            "c: 2/═════════════════════\n",
            "                          \n",
            "     ┌───┐ ░ ┌───┐ ░      \n",
            "q_0: ┤ H ├─░─┤ Z ├─░───■──\n",
            "     └───┘ ░ ├───┤ ░ ┌─┴─┐\n",
            "q_1: ──────░─┤ X ├─░─┤ X ├\n",
            "           ░ └───┘ ░ └───┘\n",
            "c: 2/═════════════════════\n",
            "                          \n",
            "     ┌───┐ ░ ┌───┐ ░      \n",
            "q_0: ┤ H ├─░─┤ X ├─░───■──\n",
            "     └───┘ ░ ├───┤ ░ ┌─┴─┐\n",
            "q_1: ──────░─┤ Z ├─░─┤ X ├\n",
            "           ░ └───┘ ░ └───┘\n",
            "c: 2/═════════════════════\n",
            "                          \n",
            "     ┌───┐ ░ ┌───┐ ░      \n",
            "q_0: ┤ H ├─░─┤ I ├─░───■──\n",
            "     └───┘ ░ ├───┤ ░ ┌─┴─┐\n",
            "q_1: ──────░─┤ X ├─░─┤ X ├\n",
            "           ░ └───┘ ░ └───┘\n",
            "c: 2/═════════════════════\n",
            "                          \n",
            "     ┌───┐ ░ ┌───┐ ░      \n",
            "q_0: ┤ H ├─░─┤ Z ├─░───■──\n",
            "     └───┘ ░ ├───┤ ░ ┌─┴─┐\n",
            "q_1: ──────░─┤ I ├─░─┤ X ├\n",
            "           ░ └───┘ ░ └───┘\n",
            "c: 2/═════════════════════\n",
            "                          \n",
            "     ┌───┐ ░ ┌───┐ ░      \n",
            "q_0: ┤ H ├─░─┤ I ├─░───■──\n",
            "     └───┘ ░ ├───┤ ░ ┌─┴─┐\n",
            "q_1: ──────░─┤ I ├─░─┤ X ├\n",
            "           ░ └───┘ ░ └───┘\n",
            "c: 2/═════════════════════\n",
            "                          \n",
            "     ┌───┐ ░ ┌───┐ ░      \n",
            "q_0: ┤ H ├─░─┤ X ├─░───■──\n",
            "     └───┘ ░ ├───┤ ░ ┌─┴─┐\n",
            "q_1: ──────░─┤ X ├─░─┤ X ├\n",
            "           ░ └───┘ ░ └───┘\n",
            "c: 2/═════════════════════\n",
            "                          \n"
          ],
          "name": "stdout"
        }
      ]
    },
    {
      "cell_type": "markdown",
      "metadata": {
        "id": "C2Iwf43LlmAF"
      },
      "source": [
        "In this circuit, the first layer can be considered as the input layer which should be encoded into 5 qubits (for each qubit) using the error correcting code developed by Laflamme et al. The next layer is the noise layer, where independent random errors corrupt the initial input state (which is the 5 qubit encoded state). Right after the noise layer, we will perform a syndrome measurement using a decoding circuit that will give us information about the kind of error that has occured to the initial states. We perform the required unitary transformation after correctly identifying the error, which completes the error correction scheme. "
      ]
    },
    {
      "cell_type": "markdown",
      "metadata": {
        "id": "J6AeLZL0nQMO"
      },
      "source": [
        "## Perfect quantum error correcting code\r\n",
        "\r\n",
        "Laflamme et al. proposed a scheme in which the logical qubits denoted by $|0_{L}\\rangle$ and $|1_{L}\\rangle$ are encoded using 5 qubits as\r\n",
        "$$|0_{L}\\rangle = -|00000\\rangle + |01111\\rangle - |10011\\rangle + |11100\\rangle + |00110\\rangle + |01001\\rangle + |10101\\rangle + |11010\\rangle~,$$\r\n",
        "$$|1_{L}\\rangle = -|11111\\rangle + |10000\\rangle + |01100\\rangle - |00011\\rangle + |11001\\rangle + |10110\\rangle - |01010\\rangle - |00101\\rangle$$\r\n",
        "with their normalization factors omitted for simplicity. This encoding is found from the orthogonality conditions for the different subspaces that we tried to understand earlier in this notebook. Different 5 qubit encodings can be similarly made by permuting the 5 qubits and changing their signs correspondingly. \r\n",
        "\r\n",
        "Let us build the circuit for encoding the states now."
      ]
    },
    {
      "cell_type": "code",
      "metadata": {
        "id": "rXICwNC9UlyZ"
      },
      "source": [
        "# Function to encode the qubit to a logical qubit state\r\n",
        "\r\n",
        "def encode(enc):\r\n",
        "\r\n",
        "  enc.h(0)\r\n",
        "  enc.h(1)\r\n",
        "  enc.h(3)\r\n",
        "  enc.barrier()\r\n",
        "\r\n",
        "  enc.h(4)\r\n",
        "  enc.mct([1,2,3],4)\r\n",
        "  enc.h(4)\r\n",
        "  enc.barrier()\r\n",
        "\r\n",
        "  enc.x(1)\r\n",
        "  enc.x(3)\r\n",
        "  enc.h(4)\r\n",
        "  enc.mct([1,2,3],4)\r\n",
        "  enc.h(4)\r\n",
        "  enc.x(3)\r\n",
        "  enc.x(1)\r\n",
        "  enc.barrier()\r\n",
        "\r\n",
        "  enc.cx(2,4)\r\n",
        "  enc.barrier()\r\n",
        "\r\n",
        "  enc.cx(2,4)\r\n",
        "  enc.cx(0,2)\r\n",
        "  enc.cx(2,4)\r\n",
        "  enc.barrier()\r\n",
        "\r\n",
        "  enc.cx(3,2)\r\n",
        "  enc.barrier()\r\n",
        "\r\n",
        "  enc.cx(1,4)\r\n",
        "  enc.barrier()\r\n",
        "\r\n",
        "  enc.h(2)\r\n",
        "  enc.ccx(4,3,2)\r\n",
        "  enc.h(2)\r\n",
        "\r\n",
        "  return enc"
      ],
      "execution_count": 24,
      "outputs": []
    },
    {
      "cell_type": "code",
      "metadata": {
        "colab": {
          "base_uri": "https://localhost:8080/",
          "height": 395
        },
        "id": "6efWnZ_CxSWm",
        "outputId": "35a080ce-fb3f-477c-9db5-15cd12b0a95f"
      },
      "source": [
        "enc = QuantumCircuit(5,5)\r\n",
        "enc = encode(enc)\r\n",
        "enc.draw()"
      ],
      "execution_count": 25,
      "outputs": [
        {
          "output_type": "execute_result",
          "data": {
            "text/html": [
              "<pre style=\"word-wrap: normal;white-space: pre;background: #fff0;line-height: 1.1;font-family: &quot;Courier New&quot;,Courier,monospace\">     ┌───┐ ░                 ░                 ░       ░                 ░ »\n",
              "q_0: ┤ H ├─░─────────────────░─────────────────░───────░────────■────────░─»\n",
              "     ├───┤ ░                 ░ ┌───┐     ┌───┐ ░       ░        │        ░ »\n",
              "q_1: ┤ H ├─░────────■────────░─┤ X ├──■──┤ X ├─░───────░────────┼────────░─»\n",
              "     └───┘ ░        │        ░ └───┘  │  └───┘ ░       ░      ┌─┴─┐      ░ »\n",
              "q_2: ──────░────────■────────░────────■────────░───■───░───■──┤ X ├──■───░─»\n",
              "     ┌───┐ ░        │        ░ ┌───┐  │  ┌───┐ ░   │   ░   │  └───┘  │   ░ »\n",
              "q_3: ┤ H ├─░────────■────────░─┤ X ├──■──┤ X ├─░───┼───░───┼─────────┼───░─»\n",
              "     └───┘ ░ ┌───┐┌─┴─┐┌───┐ ░ ├───┤┌─┴─┐├───┤ ░ ┌─┴─┐ ░ ┌─┴─┐     ┌─┴─┐ ░ »\n",
              "q_4: ──────░─┤ H ├┤ X ├┤ H ├─░─┤ H ├┤ X ├┤ H ├─░─┤ X ├─░─┤ X ├─────┤ X ├─░─»\n",
              "           ░ └───┘└───┘└───┘ ░ └───┘└───┘└───┘ ░ └───┘ ░ └───┘     └───┘ ░ »\n",
              "c: 5/══════════════════════════════════════════════════════════════════════»\n",
              "                                                                           »\n",
              "«           ░       ░                \n",
              "«q_0: ──────░───────░────────────────\n",
              "«           ░       ░                \n",
              "«q_1: ──────░───■───░────────────────\n",
              "«     ┌───┐ ░   │   ░ ┌───┐┌───┐┌───┐\n",
              "«q_2: ┤ X ├─░───┼───░─┤ H ├┤ X ├┤ H ├\n",
              "«     └─┬─┘ ░   │   ░ └───┘└─┬─┘└───┘\n",
              "«q_3: ──■───░───┼───░────────■───────\n",
              "«           ░ ┌─┴─┐ ░        │       \n",
              "«q_4: ──────░─┤ X ├─░────────■───────\n",
              "«           ░ └───┘ ░                \n",
              "«c: 5/═══════════════════════════════\n",
              "«                                    </pre>"
            ],
            "text/plain": [
              "     ┌───┐ ░                 ░                 ░       ░                 ░ »\n",
              "q_0: ┤ H ├─░─────────────────░─────────────────░───────░────────■────────░─»\n",
              "     ├───┤ ░                 ░ ┌───┐     ┌───┐ ░       ░        │        ░ »\n",
              "q_1: ┤ H ├─░────────■────────░─┤ X ├──■──┤ X ├─░───────░────────┼────────░─»\n",
              "     └───┘ ░        │        ░ └───┘  │  └───┘ ░       ░      ┌─┴─┐      ░ »\n",
              "q_2: ──────░────────■────────░────────■────────░───■───░───■──┤ X ├──■───░─»\n",
              "     ┌───┐ ░        │        ░ ┌───┐  │  ┌───┐ ░   │   ░   │  └───┘  │   ░ »\n",
              "q_3: ┤ H ├─░────────■────────░─┤ X ├──■──┤ X ├─░───┼───░───┼─────────┼───░─»\n",
              "     └───┘ ░ ┌───┐┌─┴─┐┌───┐ ░ ├───┤┌─┴─┐├───┤ ░ ┌─┴─┐ ░ ┌─┴─┐     ┌─┴─┐ ░ »\n",
              "q_4: ──────░─┤ H ├┤ X ├┤ H ├─░─┤ H ├┤ X ├┤ H ├─░─┤ X ├─░─┤ X ├─────┤ X ├─░─»\n",
              "           ░ └───┘└───┘└───┘ ░ └───┘└───┘└───┘ ░ └───┘ ░ └───┘     └───┘ ░ »\n",
              "c: 5/══════════════════════════════════════════════════════════════════════»\n",
              "                                                                           »\n",
              "«           ░       ░                \n",
              "«q_0: ──────░───────░────────────────\n",
              "«           ░       ░                \n",
              "«q_1: ──────░───■───░────────────────\n",
              "«     ┌───┐ ░   │   ░ ┌───┐┌───┐┌───┐\n",
              "«q_2: ┤ X ├─░───┼───░─┤ H ├┤ X ├┤ H ├\n",
              "«     └─┬─┘ ░   │   ░ └───┘└─┬─┘└───┘\n",
              "«q_3: ──■───░───┼───░────────■───────\n",
              "«           ░ ┌─┴─┐ ░        │       \n",
              "«q_4: ──────░─┤ X ├─░────────■───────\n",
              "«           ░ └───┘ ░                \n",
              "«c: 5/═══════════════════════════════\n",
              "«                                    "
            ]
          },
          "metadata": {
            "tags": []
          },
          "execution_count": 25
        }
      ]
    },
    {
      "cell_type": "markdown",
      "metadata": {
        "id": "0xlkpDJLxWt1"
      },
      "source": [
        "This circuit encodes the general state $\\alpha|0\\rangle+\\beta|1\\rangle$ sent through the quantum register q_2 to the logical qubit states discussed above. The resulting state will thus be an arbitrary superposition of the logical qubit states denoted as $a|0_{L}\\rangle+b|1_{L}\\rangle$."
      ]
    },
    {
      "cell_type": "code",
      "metadata": {
        "colab": {
          "base_uri": "https://localhost:8080/",
          "height": 356
        },
        "id": "QZvCmPYAzwqv",
        "outputId": "84deac2b-dd8a-46ea-80cf-1208058f1a7c"
      },
      "source": [
        "# Let us measure this circuit\r\n",
        "for i in range(5):\r\n",
        "  enc.measure(i,i)\r\n",
        "counts = execute(enc, qasm).result().get_counts()\r\n",
        "plot_histogram(counts)"
      ],
      "execution_count": 26,
      "outputs": [
        {
          "output_type": "execute_result",
          "data": {
            "image/png": "[encoded data removed]",
            "text/plain": [
              "<Figure size 504x360 with 1 Axes>"
            ]
          },
          "metadata": {
            "tags": []
          },
          "execution_count": 26
        }
      ]
    },
    {
      "cell_type": "markdown",
      "metadata": {
        "id": "B8iBHBu_0-Bl"
      },
      "source": [
        "The results in the x-axis have to be read from top to bottom due to the convention followed by qiskit. This validates the claim that the input state $|0\\rangle$ is encoded as $|0_{L}\\rangle$. Let us check the same for the input state $|1\\rangle$. "
      ]
    },
    {
      "cell_type": "code",
      "metadata": {
        "colab": {
          "base_uri": "https://localhost:8080/",
          "height": 395
        },
        "id": "tBcoDBUL2mVV",
        "outputId": "1db96d58-f2c1-47c4-9373-01bca3afffd1"
      },
      "source": [
        "enc = QuantumCircuit(5,5)\r\n",
        "# Input state\r\n",
        "enc.x(2)\r\n",
        "enc.barrier()\r\n",
        "enc = encode(enc)\r\n",
        "enc.draw()"
      ],
      "execution_count": 27,
      "outputs": [
        {
          "output_type": "execute_result",
          "data": {
            "text/html": [
              "<pre style=\"word-wrap: normal;white-space: pre;background: #fff0;line-height: 1.1;font-family: &quot;Courier New&quot;,Courier,monospace\">           ░ ┌───┐ ░                 ░                 ░       ░           »\n",
              "q_0: ──────░─┤ H ├─░─────────────────░─────────────────░───────░────────■──»\n",
              "           ░ ├───┤ ░                 ░ ┌───┐     ┌───┐ ░       ░        │  »\n",
              "q_1: ──────░─┤ H ├─░────────■────────░─┤ X ├──■──┤ X ├─░───────░────────┼──»\n",
              "     ┌───┐ ░ └───┘ ░        │        ░ └───┘  │  └───┘ ░       ░      ┌─┴─┐»\n",
              "q_2: ┤ X ├─░───────░────────■────────░────────■────────░───■───░───■──┤ X ├»\n",
              "     └───┘ ░ ┌───┐ ░        │        ░ ┌───┐  │  ┌───┐ ░   │   ░   │  └───┘»\n",
              "q_3: ──────░─┤ H ├─░────────■────────░─┤ X ├──■──┤ X ├─░───┼───░───┼───────»\n",
              "           ░ └───┘ ░ ┌───┐┌─┴─┐┌───┐ ░ ├───┤┌─┴─┐├───┤ ░ ┌─┴─┐ ░ ┌─┴─┐     »\n",
              "q_4: ──────░───────░─┤ H ├┤ X ├┤ H ├─░─┤ H ├┤ X ├┤ H ├─░─┤ X ├─░─┤ X ├─────»\n",
              "           ░       ░ └───┘└───┘└───┘ ░ └───┘└───┘└───┘ ░ └───┘ ░ └───┘     »\n",
              "c: 5/══════════════════════════════════════════════════════════════════════»\n",
              "                                                                           »\n",
              "«           ░       ░       ░                \n",
              "«q_0: ──────░───────░───────░────────────────\n",
              "«           ░       ░       ░                \n",
              "«q_1: ──────░───────░───■───░────────────────\n",
              "«           ░ ┌───┐ ░   │   ░ ┌───┐┌───┐┌───┐\n",
              "«q_2: ──■───░─┤ X ├─░───┼───░─┤ H ├┤ X ├┤ H ├\n",
              "«       │   ░ └─┬─┘ ░   │   ░ └───┘└─┬─┘└───┘\n",
              "«q_3: ──┼───░───■───░───┼───░────────■───────\n",
              "«     ┌─┴─┐ ░       ░ ┌─┴─┐ ░        │       \n",
              "«q_4: ┤ X ├─░───────░─┤ X ├─░────────■───────\n",
              "«     └───┘ ░       ░ └───┘ ░                \n",
              "«c: 5/═══════════════════════════════════════\n",
              "«                                            </pre>"
            ],
            "text/plain": [
              "           ░ ┌───┐ ░                 ░                 ░       ░           »\n",
              "q_0: ──────░─┤ H ├─░─────────────────░─────────────────░───────░────────■──»\n",
              "           ░ ├───┤ ░                 ░ ┌───┐     ┌───┐ ░       ░        │  »\n",
              "q_1: ──────░─┤ H ├─░────────■────────░─┤ X ├──■──┤ X ├─░───────░────────┼──»\n",
              "     ┌───┐ ░ └───┘ ░        │        ░ └───┘  │  └───┘ ░       ░      ┌─┴─┐»\n",
              "q_2: ┤ X ├─░───────░────────■────────░────────■────────░───■───░───■──┤ X ├»\n",
              "     └───┘ ░ ┌───┐ ░        │        ░ ┌───┐  │  ┌───┐ ░   │   ░   │  └───┘»\n",
              "q_3: ──────░─┤ H ├─░────────■────────░─┤ X ├──■──┤ X ├─░───┼───░───┼───────»\n",
              "           ░ └───┘ ░ ┌───┐┌─┴─┐┌───┐ ░ ├───┤┌─┴─┐├───┤ ░ ┌─┴─┐ ░ ┌─┴─┐     »\n",
              "q_4: ──────░───────░─┤ H ├┤ X ├┤ H ├─░─┤ H ├┤ X ├┤ H ├─░─┤ X ├─░─┤ X ├─────»\n",
              "           ░       ░ └───┘└───┘└───┘ ░ └───┘└───┘└───┘ ░ └───┘ ░ └───┘     »\n",
              "c: 5/══════════════════════════════════════════════════════════════════════»\n",
              "                                                                           »\n",
              "«           ░       ░       ░                \n",
              "«q_0: ──────░───────░───────░────────────────\n",
              "«           ░       ░       ░                \n",
              "«q_1: ──────░───────░───■───░────────────────\n",
              "«           ░ ┌───┐ ░   │   ░ ┌───┐┌───┐┌───┐\n",
              "«q_2: ──■───░─┤ X ├─░───┼───░─┤ H ├┤ X ├┤ H ├\n",
              "«       │   ░ └─┬─┘ ░   │   ░ └───┘└─┬─┘└───┘\n",
              "«q_3: ──┼───░───■───░───┼───░────────■───────\n",
              "«     ┌─┴─┐ ░       ░ ┌─┴─┐ ░        │       \n",
              "«q_4: ┤ X ├─░───────░─┤ X ├─░────────■───────\n",
              "«     └───┘ ░       ░ └───┘ ░                \n",
              "«c: 5/═══════════════════════════════════════\n",
              "«                                            "
            ]
          },
          "metadata": {
            "tags": []
          },
          "execution_count": 27
        }
      ]
    },
    {
      "cell_type": "code",
      "metadata": {
        "colab": {
          "base_uri": "https://localhost:8080/",
          "height": 359
        },
        "id": "BN-JrEpL2-BP",
        "outputId": "7c0be61d-29d0-4190-a0b2-50bfeb343a9d"
      },
      "source": [
        "for i in range(5):\r\n",
        "  enc.measure(i,i)\r\n",
        "counts = execute(enc, qasm).result().get_counts()\r\n",
        "plot_histogram(counts)"
      ],
      "execution_count": 28,
      "outputs": [
        {
          "output_type": "execute_result",
          "data": {
            "image/png": "[encoded data removed]",
            "text/plain": [
              "<Figure size 504x360 with 1 Axes>"
            ]
          },
          "metadata": {
            "tags": []
          },
          "execution_count": 28
        }
      ]
    },
    {
      "cell_type": "markdown",
      "metadata": {
        "id": "MY_NyuB34s9l"
      },
      "source": [
        "As expected, the state $|1\\rangle$ is encoded as $|1_{L}\\rangle$. Now, we come to the most interesting part of this error correcting scheme. The circuit used to correct the errors in the encoded state after noise is the same circuit used for encoding, run backwards. Running a circuit backwards is seen as a dagger operation (conjugate transpose) of the matrix of the total unitary operation performed by a circuit. \r\n",
        "\r\n",
        "Measuring the qubits other than q_2 in the backward circuit (decoder/error corrector) yields the syndrome of the type of error that has occured to the general state encoded. Various syndromes and related errors are summed up in the following table:\r\n",
        "\r\n",
        "| Error | Syndrome (q_0,q_1,q_3,q_4)| Resulting state (q_2)|\r\n",
        "| :-: | :-: | :-: |\r\n",
        "| None | 0000 | $\\alpha|0\\rangle+\\beta|1\\rangle$ |\r\n",
        "| BS3 | 1101 | $-\\alpha|1\\rangle+\\beta|0\\rangle$ |\r\n",
        "| BS5 | 1111 | $-\\alpha|0\\rangle+\\beta|1\\rangle$ |\r\n",
        "| B2 | 0001 | $\\alpha|0\\rangle-\\beta|1\\rangle$ |\r\n",
        "| S3 | 1010 | $\\alpha|0\\rangle-\\beta|1\\rangle$ |\r\n",
        "| S5 | 1100 | $\\alpha|0\\rangle-\\beta|1\\rangle$ |\r\n",
        "| BS2 | 0101 | $\\alpha|0\\rangle-\\beta|1\\rangle$ |\r\n",
        "| B5 | 0011 | $-\\alpha|0\\rangle-\\beta|1\\rangle$ |\r\n",
        "| S1 | 1000 | $-\\alpha|0\\rangle-\\beta|1\\rangle$ |\r\n",
        "| S2 | 0100 | $-\\alpha|0\\rangle-\\beta|1\\rangle$ |\r\n",
        "| S4 | 0010 | $-\\alpha|0\\rangle-\\beta|1\\rangle$ |\r\n",
        "| B1 | 0110 | $-\\alpha|1\\rangle-\\beta|0\\rangle$ |\r\n",
        "| B3 | 0111 | $-\\alpha|1\\rangle-\\beta|0\\rangle$ |\r\n",
        "| B4 | 1011 | $-\\alpha|1\\rangle-\\beta|0\\rangle$ |\r\n",
        "| BS1 | 1110 | $-\\alpha|1\\rangle-\\beta|0\\rangle$ |\r\n",
        "| BS4 | 1001 | $-\\alpha|1\\rangle-\\beta|0\\rangle$ |\r\n",
        "\r\n",
        "Here, BSk, Sk and Bk correspond to Bit+phase flip, Phase flip and Bit flip in $k^{th}$ bit respectively. Let us encode an equal superposition of $|0\\rangle$ and $|1\\rangle$ using the encoder circuit, introduce random errors to the encoded state and then try to decode and correct the errors using the encoder circuit run backwards. "
      ]
    },
    {
      "cell_type": "code",
      "metadata": {
        "id": "sQEGf-np7Tl1",
        "colab": {
          "base_uri": "https://localhost:8080/",
          "height": 395
        },
        "outputId": "2feb5175-6936-4985-eda9-44896ead2ed4"
      },
      "source": [
        "enc = QuantumCircuit(5,4)\r\n",
        "# Input state \r\n",
        "enc.h(2)\r\n",
        "enc.barrier()\r\n",
        "enc = encode(enc)\r\n",
        "enc.draw()"
      ],
      "execution_count": 29,
      "outputs": [
        {
          "output_type": "execute_result",
          "data": {
            "text/html": [
              "<pre style=\"word-wrap: normal;white-space: pre;background: #fff0;line-height: 1.1;font-family: &quot;Courier New&quot;,Courier,monospace\">           ░ ┌───┐ ░                 ░                 ░       ░           »\n",
              "q_0: ──────░─┤ H ├─░─────────────────░─────────────────░───────░────────■──»\n",
              "           ░ ├───┤ ░                 ░ ┌───┐     ┌───┐ ░       ░        │  »\n",
              "q_1: ──────░─┤ H ├─░────────■────────░─┤ X ├──■──┤ X ├─░───────░────────┼──»\n",
              "     ┌───┐ ░ └───┘ ░        │        ░ └───┘  │  └───┘ ░       ░      ┌─┴─┐»\n",
              "q_2: ┤ H ├─░───────░────────■────────░────────■────────░───■───░───■──┤ X ├»\n",
              "     └───┘ ░ ┌───┐ ░        │        ░ ┌───┐  │  ┌───┐ ░   │   ░   │  └───┘»\n",
              "q_3: ──────░─┤ H ├─░────────■────────░─┤ X ├──■──┤ X ├─░───┼───░───┼───────»\n",
              "           ░ └───┘ ░ ┌───┐┌─┴─┐┌───┐ ░ ├───┤┌─┴─┐├───┤ ░ ┌─┴─┐ ░ ┌─┴─┐     »\n",
              "q_4: ──────░───────░─┤ H ├┤ X ├┤ H ├─░─┤ H ├┤ X ├┤ H ├─░─┤ X ├─░─┤ X ├─────»\n",
              "           ░       ░ └───┘└───┘└───┘ ░ └───┘└───┘└───┘ ░ └───┘ ░ └───┘     »\n",
              "c: 4/══════════════════════════════════════════════════════════════════════»\n",
              "                                                                           »\n",
              "«           ░       ░       ░                \n",
              "«q_0: ──────░───────░───────░────────────────\n",
              "«           ░       ░       ░                \n",
              "«q_1: ──────░───────░───■───░────────────────\n",
              "«           ░ ┌───┐ ░   │   ░ ┌───┐┌───┐┌───┐\n",
              "«q_2: ──■───░─┤ X ├─░───┼───░─┤ H ├┤ X ├┤ H ├\n",
              "«       │   ░ └─┬─┘ ░   │   ░ └───┘└─┬─┘└───┘\n",
              "«q_3: ──┼───░───■───░───┼───░────────■───────\n",
              "«     ┌─┴─┐ ░       ░ ┌─┴─┐ ░        │       \n",
              "«q_4: ┤ X ├─░───────░─┤ X ├─░────────■───────\n",
              "«     └───┘ ░       ░ └───┘ ░                \n",
              "«c: 4/═══════════════════════════════════════\n",
              "«                                            </pre>"
            ],
            "text/plain": [
              "           ░ ┌───┐ ░                 ░                 ░       ░           »\n",
              "q_0: ──────░─┤ H ├─░─────────────────░─────────────────░───────░────────■──»\n",
              "           ░ ├───┤ ░                 ░ ┌───┐     ┌───┐ ░       ░        │  »\n",
              "q_1: ──────░─┤ H ├─░────────■────────░─┤ X ├──■──┤ X ├─░───────░────────┼──»\n",
              "     ┌───┐ ░ └───┘ ░        │        ░ └───┘  │  └───┘ ░       ░      ┌─┴─┐»\n",
              "q_2: ┤ H ├─░───────░────────■────────░────────■────────░───■───░───■──┤ X ├»\n",
              "     └───┘ ░ ┌───┐ ░        │        ░ ┌───┐  │  ┌───┐ ░   │   ░   │  └───┘»\n",
              "q_3: ──────░─┤ H ├─░────────■────────░─┤ X ├──■──┤ X ├─░───┼───░───┼───────»\n",
              "           ░ └───┘ ░ ┌───┐┌─┴─┐┌───┐ ░ ├───┤┌─┴─┐├───┤ ░ ┌─┴─┐ ░ ┌─┴─┐     »\n",
              "q_4: ──────░───────░─┤ H ├┤ X ├┤ H ├─░─┤ H ├┤ X ├┤ H ├─░─┤ X ├─░─┤ X ├─────»\n",
              "           ░       ░ └───┘└───┘└───┘ ░ └───┘└───┘└───┘ ░ └───┘ ░ └───┘     »\n",
              "c: 4/══════════════════════════════════════════════════════════════════════»\n",
              "                                                                           »\n",
              "«           ░       ░       ░                \n",
              "«q_0: ──────░───────░───────░────────────────\n",
              "«           ░       ░       ░                \n",
              "«q_1: ──────░───────░───■───░────────────────\n",
              "«           ░ ┌───┐ ░   │   ░ ┌───┐┌───┐┌───┐\n",
              "«q_2: ──■───░─┤ X ├─░───┼───░─┤ H ├┤ X ├┤ H ├\n",
              "«       │   ░ └─┬─┘ ░   │   ░ └───┘└─┬─┘└───┘\n",
              "«q_3: ──┼───░───■───░───┼───░────────■───────\n",
              "«     ┌─┴─┐ ░       ░ ┌─┴─┐ ░        │       \n",
              "«q_4: ┤ X ├─░───────░─┤ X ├─░────────■───────\n",
              "«     └───┘ ░       ░ └───┘ ░                \n",
              "«c: 4/═══════════════════════════════════════\n",
              "«                                            "
            ]
          },
          "metadata": {
            "tags": []
          },
          "execution_count": 29
        }
      ]
    },
    {
      "cell_type": "markdown",
      "metadata": {
        "id": "62zvl7L5R0HY"
      },
      "source": [
        "We modify the *random_error* function a bit to accomodate 5 qubits, with the constraint that atmost 1 error occurs. "
      ]
    },
    {
      "cell_type": "code",
      "metadata": {
        "id": "-VxsWaRJRTB7"
      },
      "source": [
        "def random_error(qc, r):\r\n",
        "  error_list = [qc.i, qc.x, qc.z] # Identity, bit flip and phase flip errors\r\n",
        "  random.choice(error_list)(r) # Random error in r^{th} qubit\r\n",
        "  return qc"
      ],
      "execution_count": 30,
      "outputs": []
    },
    {
      "cell_type": "code",
      "metadata": {
        "colab": {
          "base_uri": "https://localhost:8080/",
          "height": 395
        },
        "id": "B4aq3kwiSMpt",
        "outputId": "fe8716a6-93ba-4577-9950-90ee322c62a7"
      },
      "source": [
        "random.seed(26)\r\n",
        "enc.barrier()\r\n",
        "r = random.randint(0,4)\r\n",
        "enc = random_error(enc, r)\r\n",
        "enc.draw()"
      ],
      "execution_count": 31,
      "outputs": [
        {
          "output_type": "execute_result",
          "data": {
            "text/html": [
              "<pre style=\"word-wrap: normal;white-space: pre;background: #fff0;line-height: 1.1;font-family: &quot;Courier New&quot;,Courier,monospace\">           ░ ┌───┐ ░                 ░                 ░       ░           »\n",
              "q_0: ──────░─┤ H ├─░─────────────────░─────────────────░───────░────────■──»\n",
              "           ░ ├───┤ ░                 ░ ┌───┐     ┌───┐ ░       ░        │  »\n",
              "q_1: ──────░─┤ H ├─░────────■────────░─┤ X ├──■──┤ X ├─░───────░────────┼──»\n",
              "     ┌───┐ ░ └───┘ ░        │        ░ └───┘  │  └───┘ ░       ░      ┌─┴─┐»\n",
              "q_2: ┤ H ├─░───────░────────■────────░────────■────────░───■───░───■──┤ X ├»\n",
              "     └───┘ ░ ┌───┐ ░        │        ░ ┌───┐  │  ┌───┐ ░   │   ░   │  └───┘»\n",
              "q_3: ──────░─┤ H ├─░────────■────────░─┤ X ├──■──┤ X ├─░───┼───░───┼───────»\n",
              "           ░ └───┘ ░ ┌───┐┌─┴─┐┌───┐ ░ ├───┤┌─┴─┐├───┤ ░ ┌─┴─┐ ░ ┌─┴─┐     »\n",
              "q_4: ──────░───────░─┤ H ├┤ X ├┤ H ├─░─┤ H ├┤ X ├┤ H ├─░─┤ X ├─░─┤ X ├─────»\n",
              "           ░       ░ └───┘└───┘└───┘ ░ └───┘└───┘└───┘ ░ └───┘ ░ └───┘     »\n",
              "c: 4/══════════════════════════════════════════════════════════════════════»\n",
              "                                                                           »\n",
              "«           ░       ░       ░                 ░      \n",
              "«q_0: ──────░───────░───────░─────────────────░──────\n",
              "«           ░       ░       ░                 ░ ┌───┐\n",
              "«q_1: ──────░───────░───■───░─────────────────░─┤ Z ├\n",
              "«           ░ ┌───┐ ░   │   ░ ┌───┐┌───┐┌───┐ ░ └───┘\n",
              "«q_2: ──■───░─┤ X ├─░───┼───░─┤ H ├┤ X ├┤ H ├─░──────\n",
              "«       │   ░ └─┬─┘ ░   │   ░ └───┘└─┬─┘└───┘ ░      \n",
              "«q_3: ──┼───░───■───░───┼───░────────■────────░──────\n",
              "«     ┌─┴─┐ ░       ░ ┌─┴─┐ ░        │        ░      \n",
              "«q_4: ┤ X ├─░───────░─┤ X ├─░────────■────────░──────\n",
              "«     └───┘ ░       ░ └───┘ ░                 ░      \n",
              "«c: 4/═══════════════════════════════════════════════\n",
              "«                                                    </pre>"
            ],
            "text/plain": [
              "           ░ ┌───┐ ░                 ░                 ░       ░           »\n",
              "q_0: ──────░─┤ H ├─░─────────────────░─────────────────░───────░────────■──»\n",
              "           ░ ├───┤ ░                 ░ ┌───┐     ┌───┐ ░       ░        │  »\n",
              "q_1: ──────░─┤ H ├─░────────■────────░─┤ X ├──■──┤ X ├─░───────░────────┼──»\n",
              "     ┌───┐ ░ └───┘ ░        │        ░ └───┘  │  └───┘ ░       ░      ┌─┴─┐»\n",
              "q_2: ┤ H ├─░───────░────────■────────░────────■────────░───■───░───■──┤ X ├»\n",
              "     └───┘ ░ ┌───┐ ░        │        ░ ┌───┐  │  ┌───┐ ░   │   ░   │  └───┘»\n",
              "q_3: ──────░─┤ H ├─░────────■────────░─┤ X ├──■──┤ X ├─░───┼───░───┼───────»\n",
              "           ░ └───┘ ░ ┌───┐┌─┴─┐┌───┐ ░ ├───┤┌─┴─┐├───┤ ░ ┌─┴─┐ ░ ┌─┴─┐     »\n",
              "q_4: ──────░───────░─┤ H ├┤ X ├┤ H ├─░─┤ H ├┤ X ├┤ H ├─░─┤ X ├─░─┤ X ├─────»\n",
              "           ░       ░ └───┘└───┘└───┘ ░ └───┘└───┘└───┘ ░ └───┘ ░ └───┘     »\n",
              "c: 4/══════════════════════════════════════════════════════════════════════»\n",
              "                                                                           »\n",
              "«           ░       ░       ░                 ░      \n",
              "«q_0: ──────░───────░───────░─────────────────░──────\n",
              "«           ░       ░       ░                 ░ ┌───┐\n",
              "«q_1: ──────░───────░───■───░─────────────────░─┤ Z ├\n",
              "«           ░ ┌───┐ ░   │   ░ ┌───┐┌───┐┌───┐ ░ └───┘\n",
              "«q_2: ──■───░─┤ X ├─░───┼───░─┤ H ├┤ X ├┤ H ├─░──────\n",
              "«       │   ░ └─┬─┘ ░   │   ░ └───┘└─┬─┘└───┘ ░      \n",
              "«q_3: ──┼───░───■───░───┼───░────────■────────░──────\n",
              "«     ┌─┴─┐ ░       ░ ┌─┴─┐ ░        │        ░      \n",
              "«q_4: ┤ X ├─░───────░─┤ X ├─░────────■────────░──────\n",
              "«     └───┘ ░       ░ └───┘ ░                 ░      \n",
              "«c: 4/═══════════════════════════════════════════════\n",
              "«                                                    "
            ]
          },
          "metadata": {
            "tags": []
          },
          "execution_count": 31
        }
      ]
    },
    {
      "cell_type": "code",
      "metadata": {
        "id": "vZ3XtF38Saz7"
      },
      "source": [
        "# Define the error correcting circuit\r\n",
        "def correct(enc):\r\n",
        "\r\n",
        "  enc.h(2)\r\n",
        "  enc.ccx(4,3,2)\r\n",
        "  enc.h(2)\r\n",
        "  enc.barrier()\r\n",
        "\r\n",
        "  enc.cx(1,4)\r\n",
        "  enc.barrier()\r\n",
        "\r\n",
        "  enc.cx(3,2)\r\n",
        "  enc.barrier()\r\n",
        "\r\n",
        "  enc.cx(2,4)\r\n",
        "  enc.cx(0,2)\r\n",
        "  enc.cx(2,4)\r\n",
        "  enc.barrier()\r\n",
        "\r\n",
        "  enc.cx(2,4)\r\n",
        "  enc.barrier()\r\n",
        "\r\n",
        "  enc.x(1)\r\n",
        "  enc.x(3)\r\n",
        "  enc.h(4)\r\n",
        "  enc.mct([1,2,3],4)\r\n",
        "  enc.h(4)\r\n",
        "  enc.x(3)\r\n",
        "  enc.x(1)\r\n",
        "  enc.barrier()\r\n",
        "\r\n",
        "  enc.h(4)\r\n",
        "  enc.mct([1,2,3],4)\r\n",
        "  enc.h(4)\r\n",
        "  enc.barrier()\r\n",
        "\r\n",
        "  enc.h(0)\r\n",
        "  enc.h(1)\r\n",
        "  enc.h(3)\r\n",
        "  enc.barrier()\r\n",
        "\r\n",
        "  enc.measure(0,0)\r\n",
        "  enc.measure(1,1)\r\n",
        "  enc.measure(3,2)\r\n",
        "  enc.measure(4,3)\r\n",
        "\r\n",
        "  return enc"
      ],
      "execution_count": 32,
      "outputs": []
    },
    {
      "cell_type": "code",
      "metadata": {
        "colab": {
          "base_uri": "https://localhost:8080/",
          "height": 774
        },
        "id": "dnIPad14Tp1-",
        "outputId": "0c24aad5-566e-4cf6-f4c4-d960e770b24e"
      },
      "source": [
        "enc.barrier()\r\n",
        "enc = correct(enc)\r\n",
        "enc.draw()"
      ],
      "execution_count": 33,
      "outputs": [
        {
          "output_type": "execute_result",
          "data": {
            "text/html": [
              "<pre style=\"word-wrap: normal;white-space: pre;background: #fff0;line-height: 1.1;font-family: &quot;Courier New&quot;,Courier,monospace\">           ░ ┌───┐ ░                 ░                 ░       ░           »\n",
              "q_0: ──────░─┤ H ├─░─────────────────░─────────────────░───────░────────■──»\n",
              "           ░ ├───┤ ░                 ░ ┌───┐     ┌───┐ ░       ░        │  »\n",
              "q_1: ──────░─┤ H ├─░────────■────────░─┤ X ├──■──┤ X ├─░───────░────────┼──»\n",
              "     ┌───┐ ░ └───┘ ░        │        ░ └───┘  │  └───┘ ░       ░      ┌─┴─┐»\n",
              "q_2: ┤ H ├─░───────░────────■────────░────────■────────░───■───░───■──┤ X ├»\n",
              "     └───┘ ░ ┌───┐ ░        │        ░ ┌───┐  │  ┌───┐ ░   │   ░   │  └───┘»\n",
              "q_3: ──────░─┤ H ├─░────────■────────░─┤ X ├──■──┤ X ├─░───┼───░───┼───────»\n",
              "           ░ └───┘ ░ ┌───┐┌─┴─┐┌───┐ ░ ├───┤┌─┴─┐├───┤ ░ ┌─┴─┐ ░ ┌─┴─┐     »\n",
              "q_4: ──────░───────░─┤ H ├┤ X ├┤ H ├─░─┤ H ├┤ X ├┤ H ├─░─┤ X ├─░─┤ X ├─────»\n",
              "           ░       ░ └───┘└───┘└───┘ ░ └───┘└───┘└───┘ ░ └───┘ ░ └───┘     »\n",
              "c: 4/══════════════════════════════════════════════════════════════════════»\n",
              "                                                                           »\n",
              "«           ░       ░       ░                 ░       ░                 ░      »\n",
              "«q_0: ──────░───────░───────░─────────────────░───────░─────────────────░──────»\n",
              "«           ░       ░       ░                 ░ ┌───┐ ░                 ░      »\n",
              "«q_1: ──────░───────░───■───░─────────────────░─┤ Z ├─░─────────────────░───■──»\n",
              "«           ░ ┌───┐ ░   │   ░ ┌───┐┌───┐┌───┐ ░ └───┘ ░ ┌───┐┌───┐┌───┐ ░   │  »\n",
              "«q_2: ──■───░─┤ X ├─░───┼───░─┤ H ├┤ X ├┤ H ├─░───────░─┤ H ├┤ X ├┤ H ├─░───┼──»\n",
              "«       │   ░ └─┬─┘ ░   │   ░ └───┘└─┬─┘└───┘ ░       ░ └───┘└─┬─┘└───┘ ░   │  »\n",
              "«q_3: ──┼───░───■───░───┼───░────────■────────░───────░────────■────────░───┼──»\n",
              "«     ┌─┴─┐ ░       ░ ┌─┴─┐ ░        │        ░       ░        │        ░ ┌─┴─┐»\n",
              "«q_4: ┤ X ├─░───────░─┤ X ├─░────────■────────░───────░────────■────────░─┤ X ├»\n",
              "«     └───┘ ░       ░ └───┘ ░                 ░       ░                 ░ └───┘»\n",
              "«c: 4/═════════════════════════════════════════════════════════════════════════»\n",
              "«                                                                              »\n",
              "«      ░       ░                 ░       ░                 ░                 ░ »\n",
              "«q_0: ─░───────░────────■────────░───────░─────────────────░─────────────────░─»\n",
              "«      ░       ░        │        ░       ░ ┌───┐     ┌───┐ ░                 ░ »\n",
              "«q_1: ─░───────░────────┼────────░───────░─┤ X ├──■──┤ X ├─░────────■────────░─»\n",
              "«      ░ ┌───┐ ░      ┌─┴─┐      ░       ░ └───┘  │  └───┘ ░        │        ░ »\n",
              "«q_2: ─░─┤ X ├─░───■──┤ X ├──■───░───■───░────────■────────░────────■────────░─»\n",
              "«      ░ └─┬─┘ ░   │  └───┘  │   ░   │   ░ ┌───┐  │  ┌───┐ ░        │        ░ »\n",
              "«q_3: ─░───■───░───┼─────────┼───░───┼───░─┤ X ├──■──┤ X ├─░────────■────────░─»\n",
              "«      ░       ░ ┌─┴─┐     ┌─┴─┐ ░ ┌─┴─┐ ░ ├───┤┌─┴─┐├───┤ ░ ┌───┐┌─┴─┐┌───┐ ░ »\n",
              "«q_4: ─░───────░─┤ X ├─────┤ X ├─░─┤ X ├─░─┤ H ├┤ X ├┤ H ├─░─┤ H ├┤ X ├┤ H ├─░─»\n",
              "«      ░       ░ └───┘     └───┘ ░ └───┘ ░ └───┘└───┘└───┘ ░ └───┘└───┘└───┘ ░ »\n",
              "«c: 4/═════════════════════════════════════════════════════════════════════════»\n",
              "«                                                                              »\n",
              "«     ┌───┐ ░ ┌─┐         \n",
              "«q_0: ┤ H ├─░─┤M├─────────\n",
              "«     ├───┤ ░ └╥┘┌─┐      \n",
              "«q_1: ┤ H ├─░──╫─┤M├──────\n",
              "«     └───┘ ░  ║ └╥┘      \n",
              "«q_2: ──────░──╫──╫───────\n",
              "«     ┌───┐ ░  ║  ║ ┌─┐   \n",
              "«q_3: ┤ H ├─░──╫──╫─┤M├───\n",
              "«     └───┘ ░  ║  ║ └╥┘┌─┐\n",
              "«q_4: ──────░──╫──╫──╫─┤M├\n",
              "«           ░  ║  ║  ║ └╥┘\n",
              "«c: 4/═════════╩══╩══╩══╩═\n",
              "«              0  1  2  3 </pre>"
            ],
            "text/plain": [
              "           ░ ┌───┐ ░                 ░                 ░       ░           »\n",
              "q_0: ──────░─┤ H ├─░─────────────────░─────────────────░───────░────────■──»\n",
              "           ░ ├───┤ ░                 ░ ┌───┐     ┌───┐ ░       ░        │  »\n",
              "q_1: ──────░─┤ H ├─░────────■────────░─┤ X ├──■──┤ X ├─░───────░────────┼──»\n",
              "     ┌───┐ ░ └───┘ ░        │        ░ └───┘  │  └───┘ ░       ░      ┌─┴─┐»\n",
              "q_2: ┤ H ├─░───────░────────■────────░────────■────────░───■───░───■──┤ X ├»\n",
              "     └───┘ ░ ┌───┐ ░        │        ░ ┌───┐  │  ┌───┐ ░   │   ░   │  └───┘»\n",
              "q_3: ──────░─┤ H ├─░────────■────────░─┤ X ├──■──┤ X ├─░───┼───░───┼───────»\n",
              "           ░ └───┘ ░ ┌───┐┌─┴─┐┌───┐ ░ ├───┤┌─┴─┐├───┤ ░ ┌─┴─┐ ░ ┌─┴─┐     »\n",
              "q_4: ──────░───────░─┤ H ├┤ X ├┤ H ├─░─┤ H ├┤ X ├┤ H ├─░─┤ X ├─░─┤ X ├─────»\n",
              "           ░       ░ └───┘└───┘└───┘ ░ └───┘└───┘└───┘ ░ └───┘ ░ └───┘     »\n",
              "c: 4/══════════════════════════════════════════════════════════════════════»\n",
              "                                                                           »\n",
              "«           ░       ░       ░                 ░       ░                 ░      »\n",
              "«q_0: ──────░───────░───────░─────────────────░───────░─────────────────░──────»\n",
              "«           ░       ░       ░                 ░ ┌───┐ ░                 ░      »\n",
              "«q_1: ──────░───────░───■───░─────────────────░─┤ Z ├─░─────────────────░───■──»\n",
              "«           ░ ┌───┐ ░   │   ░ ┌───┐┌───┐┌───┐ ░ └───┘ ░ ┌───┐┌───┐┌───┐ ░   │  »\n",
              "«q_2: ──■───░─┤ X ├─░───┼───░─┤ H ├┤ X ├┤ H ├─░───────░─┤ H ├┤ X ├┤ H ├─░───┼──»\n",
              "«       │   ░ └─┬─┘ ░   │   ░ └───┘└─┬─┘└───┘ ░       ░ └───┘└─┬─┘└───┘ ░   │  »\n",
              "«q_3: ──┼───░───■───░───┼───░────────■────────░───────░────────■────────░───┼──»\n",
              "«     ┌─┴─┐ ░       ░ ┌─┴─┐ ░        │        ░       ░        │        ░ ┌─┴─┐»\n",
              "«q_4: ┤ X ├─░───────░─┤ X ├─░────────■────────░───────░────────■────────░─┤ X ├»\n",
              "«     └───┘ ░       ░ └───┘ ░                 ░       ░                 ░ └───┘»\n",
              "«c: 4/═════════════════════════════════════════════════════════════════════════»\n",
              "«                                                                              »\n",
              "«      ░       ░                 ░       ░                 ░                 ░ »\n",
              "«q_0: ─░───────░────────■────────░───────░─────────────────░─────────────────░─»\n",
              "«      ░       ░        │        ░       ░ ┌───┐     ┌───┐ ░                 ░ »\n",
              "«q_1: ─░───────░────────┼────────░───────░─┤ X ├──■──┤ X ├─░────────■────────░─»\n",
              "«      ░ ┌───┐ ░      ┌─┴─┐      ░       ░ └───┘  │  └───┘ ░        │        ░ »\n",
              "«q_2: ─░─┤ X ├─░───■──┤ X ├──■───░───■───░────────■────────░────────■────────░─»\n",
              "«      ░ └─┬─┘ ░   │  └───┘  │   ░   │   ░ ┌───┐  │  ┌───┐ ░        │        ░ »\n",
              "«q_3: ─░───■───░───┼─────────┼───░───┼───░─┤ X ├──■──┤ X ├─░────────■────────░─»\n",
              "«      ░       ░ ┌─┴─┐     ┌─┴─┐ ░ ┌─┴─┐ ░ ├───┤┌─┴─┐├───┤ ░ ┌───┐┌─┴─┐┌───┐ ░ »\n",
              "«q_4: ─░───────░─┤ X ├─────┤ X ├─░─┤ X ├─░─┤ H ├┤ X ├┤ H ├─░─┤ H ├┤ X ├┤ H ├─░─»\n",
              "«      ░       ░ └───┘     └───┘ ░ └───┘ ░ └───┘└───┘└───┘ ░ └───┘└───┘└───┘ ░ »\n",
              "«c: 4/═════════════════════════════════════════════════════════════════════════»\n",
              "«                                                                              »\n",
              "«     ┌───┐ ░ ┌─┐         \n",
              "«q_0: ┤ H ├─░─┤M├─────────\n",
              "«     ├───┤ ░ └╥┘┌─┐      \n",
              "«q_1: ┤ H ├─░──╫─┤M├──────\n",
              "«     └───┘ ░  ║ └╥┘      \n",
              "«q_2: ──────░──╫──╫───────\n",
              "«     ┌───┐ ░  ║  ║ ┌─┐   \n",
              "«q_3: ┤ H ├─░──╫──╫─┤M├───\n",
              "«     └───┘ ░  ║  ║ └╥┘┌─┐\n",
              "«q_4: ──────░──╫──╫──╫─┤M├\n",
              "«           ░  ║  ║  ║ └╥┘\n",
              "«c: 4/═════════╩══╩══╩══╩═\n",
              "«              0  1  2  3 "
            ]
          },
          "metadata": {
            "tags": []
          },
          "execution_count": 33
        }
      ]
    },
    {
      "cell_type": "code",
      "metadata": {
        "colab": {
          "base_uri": "https://localhost:8080/",
          "height": 347
        },
        "id": "9QIg_Yh4Ua5Q",
        "outputId": "2cd42752-a7db-466d-caec-8baf38fdc550"
      },
      "source": [
        "counts = execute(enc, qasm).result().get_counts()\r\n",
        "plot_histogram(counts)"
      ],
      "execution_count": 34,
      "outputs": [
        {
          "output_type": "execute_result",
          "data": {
            "image/png": "[encoded data removed]",
            "text/plain": [
              "<Figure size 504x360 with 1 Axes>"
            ]
          },
          "metadata": {
            "tags": []
          },
          "execution_count": 34
        }
      ]
    },
    {
      "cell_type": "markdown",
      "metadata": {
        "id": "hxao3xjLqSzU"
      },
      "source": [
        "Looking up in the table presented above, we can immediately recognize that a phase flip error has occured in the second qubit and corresponds to the state $-\\frac{1}{\\sqrt{2}}\\left(|0\\rangle+|1\\rangle\\right)$. Hence, error corresponds to simultaneous phase flips in the original encoded state, which appears as a global phase $e^{i\\pi}$. In quantum mechanics, global phase does not matter. Hence, we don't have to perform any correction.\r\n",
        "\r\n",
        "Since we now know how to correct single qubit errors, we have in principle solved the problem of correcting errors in two qubits of the bell circuit. "
      ]
    },
    {
      "cell_type": "code",
      "metadata": {
        "id": "e_m0CEO0pFjF"
      },
      "source": [
        ""
      ],
      "execution_count": 34,
      "outputs": []
    }
  ]
}